{
  "nbformat": 4,
  "nbformat_minor": 0,
  "metadata": {
    "colab": {
      "name": "Submission2MachineLearningIntermediate.ipynb",
      "provenance": [],
      "collapsed_sections": []
    },
    "kernelspec": {
      "name": "python3",
      "display_name": "Python 3"
    },
    "language_info": {
      "name": "python"
    }
  },
  "cells": [
    {
      "cell_type": "markdown",
      "metadata": {
        "id": "zNX7fsYezAJX"
      },
      "source": [
        "#Import dan Download Semua Package"
      ]
    },
    {
      "cell_type": "code",
      "metadata": {
        "id": "TYlC5QlPw8bW"
      },
      "source": [
        "import os\n",
        "import pandas as pd\n",
        "import nltk, os, re, string\n",
        "from keras.layers import Input, LSTM, Bidirectional, SpatialDropout1D, Dropout, Flatten, Dense, Embedding, BatchNormalization\n",
        "from keras.models import Model\n",
        "from keras.callbacks import EarlyStopping\n",
        "from keras.preprocessing.text import Tokenizer, text_to_word_sequence\n",
        "from keras.preprocessing.sequence import pad_sequences\n",
        "from nltk.corpus import stopwords\n",
        "from nltk.stem import WordNetLemmatizer\n",
        "from nltk.corpus import wordnet as wn\n",
        "from sklearn.model_selection import train_test_split\n",
        "from tensorflow.keras.preprocessing.text import Tokenizer\n",
        "from tensorflow.keras.preprocessing.sequence import pad_sequences\n",
        "import matplotlib.pyplot as plt\n",
        "import tensorflow as tf\n",
        "from keras.preprocessing.sequence import TimeseriesGenerator\n",
        "from sklearn.preprocessing import MinMaxScaler"
      ],
      "execution_count": 1,
      "outputs": []
    },
    {
      "cell_type": "markdown",
      "metadata": {
        "id": "DWlFsbCpzv4g"
      },
      "source": [
        "#Fetch Dataset dari Kaggle"
      ]
    },
    {
      "cell_type": "code",
      "metadata": {
        "colab": {
          "base_uri": "https://localhost:8080/",
          "height": 879
        },
        "id": "ekze47fjxVV2",
        "outputId": "2349e310-a30b-4b65-cdcb-b6eeb51c0c74"
      },
      "source": [
        "os.environ['KAGGLE_CONFIG_DIR'] = '/content'\n",
        "!kaggle datasets download -d gpreda/covid-world-vaccination-progress\n",
        "\n",
        "df = pd.read_csv('country_vaccinations.csv')\n",
        "df.head(10)\n"
      ],
      "execution_count": 2,
      "outputs": [
        {
          "output_type": "stream",
          "text": [
            "Traceback (most recent call last):\n",
            "  File \"/usr/local/bin/kaggle\", line 5, in <module>\n",
            "    from kaggle.cli import main\n",
            "  File \"/usr/local/lib/python2.7/dist-packages/kaggle/__init__.py\", line 23, in <module>\n",
            "    api.authenticate()\n",
            "  File \"/usr/local/lib/python2.7/dist-packages/kaggle/api/kaggle_api_extended.py\", line 146, in authenticate\n",
            "    self.config_file, self.config_dir))\n",
            "IOError: Could not find kaggle.json. Make sure it's located in /content. Or use the environment method.\n"
          ],
          "name": "stdout"
        },
        {
          "output_type": "execute_result",
          "data": {
            "text/html": [
              "<div>\n",
              "<style scoped>\n",
              "    .dataframe tbody tr th:only-of-type {\n",
              "        vertical-align: middle;\n",
              "    }\n",
              "\n",
              "    .dataframe tbody tr th {\n",
              "        vertical-align: top;\n",
              "    }\n",
              "\n",
              "    .dataframe thead th {\n",
              "        text-align: right;\n",
              "    }\n",
              "</style>\n",
              "<table border=\"1\" class=\"dataframe\">\n",
              "  <thead>\n",
              "    <tr style=\"text-align: right;\">\n",
              "      <th></th>\n",
              "      <th>country</th>\n",
              "      <th>iso_code</th>\n",
              "      <th>date</th>\n",
              "      <th>total_vaccinations</th>\n",
              "      <th>people_vaccinated</th>\n",
              "      <th>people_fully_vaccinated</th>\n",
              "      <th>daily_vaccinations_raw</th>\n",
              "      <th>daily_vaccinations</th>\n",
              "      <th>total_vaccinations_per_hundred</th>\n",
              "      <th>people_vaccinated_per_hundred</th>\n",
              "      <th>people_fully_vaccinated_per_hundred</th>\n",
              "      <th>daily_vaccinations_per_million</th>\n",
              "      <th>vaccines</th>\n",
              "      <th>source_name</th>\n",
              "      <th>source_website</th>\n",
              "    </tr>\n",
              "  </thead>\n",
              "  <tbody>\n",
              "    <tr>\n",
              "      <th>0</th>\n",
              "      <td>Afghanistan</td>\n",
              "      <td>AFG</td>\n",
              "      <td>2021-02-22</td>\n",
              "      <td>0.0</td>\n",
              "      <td>0.0</td>\n",
              "      <td>NaN</td>\n",
              "      <td>NaN</td>\n",
              "      <td>NaN</td>\n",
              "      <td>0.00</td>\n",
              "      <td>0.00</td>\n",
              "      <td>NaN</td>\n",
              "      <td>NaN</td>\n",
              "      <td>Johnson&amp;Johnson, Oxford/AstraZeneca, Pfizer/Bi...</td>\n",
              "      <td>World Health Organization</td>\n",
              "      <td>https://covid19.who.int/</td>\n",
              "    </tr>\n",
              "    <tr>\n",
              "      <th>1</th>\n",
              "      <td>Afghanistan</td>\n",
              "      <td>AFG</td>\n",
              "      <td>2021-02-23</td>\n",
              "      <td>NaN</td>\n",
              "      <td>NaN</td>\n",
              "      <td>NaN</td>\n",
              "      <td>NaN</td>\n",
              "      <td>1367.0</td>\n",
              "      <td>NaN</td>\n",
              "      <td>NaN</td>\n",
              "      <td>NaN</td>\n",
              "      <td>35.0</td>\n",
              "      <td>Johnson&amp;Johnson, Oxford/AstraZeneca, Pfizer/Bi...</td>\n",
              "      <td>World Health Organization</td>\n",
              "      <td>https://covid19.who.int/</td>\n",
              "    </tr>\n",
              "    <tr>\n",
              "      <th>2</th>\n",
              "      <td>Afghanistan</td>\n",
              "      <td>AFG</td>\n",
              "      <td>2021-02-24</td>\n",
              "      <td>NaN</td>\n",
              "      <td>NaN</td>\n",
              "      <td>NaN</td>\n",
              "      <td>NaN</td>\n",
              "      <td>1367.0</td>\n",
              "      <td>NaN</td>\n",
              "      <td>NaN</td>\n",
              "      <td>NaN</td>\n",
              "      <td>35.0</td>\n",
              "      <td>Johnson&amp;Johnson, Oxford/AstraZeneca, Pfizer/Bi...</td>\n",
              "      <td>World Health Organization</td>\n",
              "      <td>https://covid19.who.int/</td>\n",
              "    </tr>\n",
              "    <tr>\n",
              "      <th>3</th>\n",
              "      <td>Afghanistan</td>\n",
              "      <td>AFG</td>\n",
              "      <td>2021-02-25</td>\n",
              "      <td>NaN</td>\n",
              "      <td>NaN</td>\n",
              "      <td>NaN</td>\n",
              "      <td>NaN</td>\n",
              "      <td>1367.0</td>\n",
              "      <td>NaN</td>\n",
              "      <td>NaN</td>\n",
              "      <td>NaN</td>\n",
              "      <td>35.0</td>\n",
              "      <td>Johnson&amp;Johnson, Oxford/AstraZeneca, Pfizer/Bi...</td>\n",
              "      <td>World Health Organization</td>\n",
              "      <td>https://covid19.who.int/</td>\n",
              "    </tr>\n",
              "    <tr>\n",
              "      <th>4</th>\n",
              "      <td>Afghanistan</td>\n",
              "      <td>AFG</td>\n",
              "      <td>2021-02-26</td>\n",
              "      <td>NaN</td>\n",
              "      <td>NaN</td>\n",
              "      <td>NaN</td>\n",
              "      <td>NaN</td>\n",
              "      <td>1367.0</td>\n",
              "      <td>NaN</td>\n",
              "      <td>NaN</td>\n",
              "      <td>NaN</td>\n",
              "      <td>35.0</td>\n",
              "      <td>Johnson&amp;Johnson, Oxford/AstraZeneca, Pfizer/Bi...</td>\n",
              "      <td>World Health Organization</td>\n",
              "      <td>https://covid19.who.int/</td>\n",
              "    </tr>\n",
              "    <tr>\n",
              "      <th>5</th>\n",
              "      <td>Afghanistan</td>\n",
              "      <td>AFG</td>\n",
              "      <td>2021-02-27</td>\n",
              "      <td>NaN</td>\n",
              "      <td>NaN</td>\n",
              "      <td>NaN</td>\n",
              "      <td>NaN</td>\n",
              "      <td>1367.0</td>\n",
              "      <td>NaN</td>\n",
              "      <td>NaN</td>\n",
              "      <td>NaN</td>\n",
              "      <td>35.0</td>\n",
              "      <td>Johnson&amp;Johnson, Oxford/AstraZeneca, Pfizer/Bi...</td>\n",
              "      <td>World Health Organization</td>\n",
              "      <td>https://covid19.who.int/</td>\n",
              "    </tr>\n",
              "    <tr>\n",
              "      <th>6</th>\n",
              "      <td>Afghanistan</td>\n",
              "      <td>AFG</td>\n",
              "      <td>2021-02-28</td>\n",
              "      <td>8200.0</td>\n",
              "      <td>8200.0</td>\n",
              "      <td>NaN</td>\n",
              "      <td>NaN</td>\n",
              "      <td>1367.0</td>\n",
              "      <td>0.02</td>\n",
              "      <td>0.02</td>\n",
              "      <td>NaN</td>\n",
              "      <td>35.0</td>\n",
              "      <td>Johnson&amp;Johnson, Oxford/AstraZeneca, Pfizer/Bi...</td>\n",
              "      <td>World Health Organization</td>\n",
              "      <td>https://covid19.who.int/</td>\n",
              "    </tr>\n",
              "    <tr>\n",
              "      <th>7</th>\n",
              "      <td>Afghanistan</td>\n",
              "      <td>AFG</td>\n",
              "      <td>2021-03-01</td>\n",
              "      <td>NaN</td>\n",
              "      <td>NaN</td>\n",
              "      <td>NaN</td>\n",
              "      <td>NaN</td>\n",
              "      <td>1580.0</td>\n",
              "      <td>NaN</td>\n",
              "      <td>NaN</td>\n",
              "      <td>NaN</td>\n",
              "      <td>41.0</td>\n",
              "      <td>Johnson&amp;Johnson, Oxford/AstraZeneca, Pfizer/Bi...</td>\n",
              "      <td>World Health Organization</td>\n",
              "      <td>https://covid19.who.int/</td>\n",
              "    </tr>\n",
              "    <tr>\n",
              "      <th>8</th>\n",
              "      <td>Afghanistan</td>\n",
              "      <td>AFG</td>\n",
              "      <td>2021-03-02</td>\n",
              "      <td>NaN</td>\n",
              "      <td>NaN</td>\n",
              "      <td>NaN</td>\n",
              "      <td>NaN</td>\n",
              "      <td>1794.0</td>\n",
              "      <td>NaN</td>\n",
              "      <td>NaN</td>\n",
              "      <td>NaN</td>\n",
              "      <td>46.0</td>\n",
              "      <td>Johnson&amp;Johnson, Oxford/AstraZeneca, Pfizer/Bi...</td>\n",
              "      <td>World Health Organization</td>\n",
              "      <td>https://covid19.who.int/</td>\n",
              "    </tr>\n",
              "    <tr>\n",
              "      <th>9</th>\n",
              "      <td>Afghanistan</td>\n",
              "      <td>AFG</td>\n",
              "      <td>2021-03-03</td>\n",
              "      <td>NaN</td>\n",
              "      <td>NaN</td>\n",
              "      <td>NaN</td>\n",
              "      <td>NaN</td>\n",
              "      <td>2008.0</td>\n",
              "      <td>NaN</td>\n",
              "      <td>NaN</td>\n",
              "      <td>NaN</td>\n",
              "      <td>52.0</td>\n",
              "      <td>Johnson&amp;Johnson, Oxford/AstraZeneca, Pfizer/Bi...</td>\n",
              "      <td>World Health Organization</td>\n",
              "      <td>https://covid19.who.int/</td>\n",
              "    </tr>\n",
              "  </tbody>\n",
              "</table>\n",
              "</div>"
            ],
            "text/plain": [
              "       country iso_code  ...                source_name            source_website\n",
              "0  Afghanistan      AFG  ...  World Health Organization  https://covid19.who.int/\n",
              "1  Afghanistan      AFG  ...  World Health Organization  https://covid19.who.int/\n",
              "2  Afghanistan      AFG  ...  World Health Organization  https://covid19.who.int/\n",
              "3  Afghanistan      AFG  ...  World Health Organization  https://covid19.who.int/\n",
              "4  Afghanistan      AFG  ...  World Health Organization  https://covid19.who.int/\n",
              "5  Afghanistan      AFG  ...  World Health Organization  https://covid19.who.int/\n",
              "6  Afghanistan      AFG  ...  World Health Organization  https://covid19.who.int/\n",
              "7  Afghanistan      AFG  ...  World Health Organization  https://covid19.who.int/\n",
              "8  Afghanistan      AFG  ...  World Health Organization  https://covid19.who.int/\n",
              "9  Afghanistan      AFG  ...  World Health Organization  https://covid19.who.int/\n",
              "\n",
              "[10 rows x 15 columns]"
            ]
          },
          "metadata": {},
          "execution_count": 2
        }
      ]
    },
    {
      "cell_type": "markdown",
      "metadata": {
        "id": "WreKMp7k0MtD"
      },
      "source": [
        "#Daftar Nama Kolom"
      ]
    },
    {
      "cell_type": "code",
      "metadata": {
        "id": "uc6GoqN72uIm",
        "colab": {
          "base_uri": "https://localhost:8080/"
        },
        "outputId": "0b253e71-7afd-449e-ec9e-ed01ef7d5754"
      },
      "source": [
        "df.columns"
      ],
      "execution_count": 3,
      "outputs": [
        {
          "output_type": "execute_result",
          "data": {
            "text/plain": [
              "Index(['country', 'iso_code', 'date', 'total_vaccinations',\n",
              "       'people_vaccinated', 'people_fully_vaccinated',\n",
              "       'daily_vaccinations_raw', 'daily_vaccinations',\n",
              "       'total_vaccinations_per_hundred', 'people_vaccinated_per_hundred',\n",
              "       'people_fully_vaccinated_per_hundred', 'daily_vaccinations_per_million',\n",
              "       'vaccines', 'source_name', 'source_website'],\n",
              "      dtype='object')"
            ]
          },
          "metadata": {},
          "execution_count": 3
        }
      ]
    },
    {
      "cell_type": "markdown",
      "metadata": {
        "id": "k-D77Q68785b"
      },
      "source": [
        "#Daftar Negara"
      ]
    },
    {
      "cell_type": "code",
      "metadata": {
        "id": "LWcwN1m826kv",
        "colab": {
          "base_uri": "https://localhost:8080/"
        },
        "outputId": "d8751f1f-280f-4510-988f-8c7eb25696a3"
      },
      "source": [
        "df.country.value_counts()\n"
      ],
      "execution_count": 4,
      "outputs": [
        {
          "output_type": "execute_result",
          "data": {
            "text/plain": [
              "Latvia                             255\n",
              "Norway                             254\n",
              "Scotland                           250\n",
              "England                            250\n",
              "Wales                              245\n",
              "                                  ... \n",
              "Tokelau                             43\n",
              "Haiti                               27\n",
              "Turkmenistan                         1\n",
              "Bonaire Sint Eustatius and Saba      1\n",
              "Tanzania                             1\n",
              "Name: country, Length: 222, dtype: int64"
            ]
          },
          "metadata": {},
          "execution_count": 4
        }
      ]
    },
    {
      "cell_type": "markdown",
      "metadata": {
        "id": "m_0qnPjp81lh"
      },
      "source": [
        "#Daftar Vaksin"
      ]
    },
    {
      "cell_type": "code",
      "metadata": {
        "id": "HJrg8Ncv7j_z",
        "colab": {
          "base_uri": "https://localhost:8080/"
        },
        "outputId": "293db9a5-597b-4691-beb1-f1029e42d19a"
      },
      "source": [
        "df.vaccines.value_counts()"
      ],
      "execution_count": 5,
      "outputs": [
        {
          "output_type": "execute_result",
          "data": {
            "text/plain": [
              "Oxford/AstraZeneca                                                5623\n",
              "Johnson&Johnson, Moderna, Oxford/AstraZeneca, Pfizer/BioNTech     4748\n",
              "Moderna, Oxford/AstraZeneca, Pfizer/BioNTech                      3379\n",
              "Oxford/AstraZeneca, Sinopharm/Beijing                             2615\n",
              "Oxford/AstraZeneca, Pfizer/BioNTech                               2043\n",
              "                                                                  ... \n",
              "Moderna, Oxford/AstraZeneca, Sinovac                                95\n",
              "Abdala, Soberana02                                                  87\n",
              "Covaxin, Oxford/AstraZeneca                                         86\n",
              "Johnson&Johnson                                                      1\n",
              "EpiVacCorona, Oxford/AstraZeneca, Sinopharm/Beijing, Sputnik V       1\n",
              "Name: vaccines, Length: 65, dtype: int64"
            ]
          },
          "metadata": {},
          "execution_count": 5
        }
      ]
    },
    {
      "cell_type": "code",
      "metadata": {
        "id": "ZyEljSA4Dgfr",
        "colab": {
          "base_uri": "https://localhost:8080/",
          "height": 424
        },
        "outputId": "d28e7d99-5c91-4b5f-a32b-8b5217fc7e99"
      },
      "source": [
        "df_new = df.drop(columns=[\n",
        "                          'iso_code', 'total_vaccinations', 'people_vaccinated', \n",
        "                          'people_fully_vaccinated', 'daily_vaccinations_raw', \n",
        "                          'daily_vaccinations', 'total_vaccinations_per_hundred', \n",
        "                          'people_vaccinated_per_hundred', \n",
        "                          'people_fully_vaccinated_per_hundred', \n",
        "                          'daily_vaccinations_per_million'\n",
        "                          ])\n",
        "df_new"
      ],
      "execution_count": 6,
      "outputs": [
        {
          "output_type": "execute_result",
          "data": {
            "text/html": [
              "<div>\n",
              "<style scoped>\n",
              "    .dataframe tbody tr th:only-of-type {\n",
              "        vertical-align: middle;\n",
              "    }\n",
              "\n",
              "    .dataframe tbody tr th {\n",
              "        vertical-align: top;\n",
              "    }\n",
              "\n",
              "    .dataframe thead th {\n",
              "        text-align: right;\n",
              "    }\n",
              "</style>\n",
              "<table border=\"1\" class=\"dataframe\">\n",
              "  <thead>\n",
              "    <tr style=\"text-align: right;\">\n",
              "      <th></th>\n",
              "      <th>country</th>\n",
              "      <th>date</th>\n",
              "      <th>vaccines</th>\n",
              "      <th>source_name</th>\n",
              "      <th>source_website</th>\n",
              "    </tr>\n",
              "  </thead>\n",
              "  <tbody>\n",
              "    <tr>\n",
              "      <th>0</th>\n",
              "      <td>Afghanistan</td>\n",
              "      <td>2021-02-22</td>\n",
              "      <td>Johnson&amp;Johnson, Oxford/AstraZeneca, Pfizer/Bi...</td>\n",
              "      <td>World Health Organization</td>\n",
              "      <td>https://covid19.who.int/</td>\n",
              "    </tr>\n",
              "    <tr>\n",
              "      <th>1</th>\n",
              "      <td>Afghanistan</td>\n",
              "      <td>2021-02-23</td>\n",
              "      <td>Johnson&amp;Johnson, Oxford/AstraZeneca, Pfizer/Bi...</td>\n",
              "      <td>World Health Organization</td>\n",
              "      <td>https://covid19.who.int/</td>\n",
              "    </tr>\n",
              "    <tr>\n",
              "      <th>2</th>\n",
              "      <td>Afghanistan</td>\n",
              "      <td>2021-02-24</td>\n",
              "      <td>Johnson&amp;Johnson, Oxford/AstraZeneca, Pfizer/Bi...</td>\n",
              "      <td>World Health Organization</td>\n",
              "      <td>https://covid19.who.int/</td>\n",
              "    </tr>\n",
              "    <tr>\n",
              "      <th>3</th>\n",
              "      <td>Afghanistan</td>\n",
              "      <td>2021-02-25</td>\n",
              "      <td>Johnson&amp;Johnson, Oxford/AstraZeneca, Pfizer/Bi...</td>\n",
              "      <td>World Health Organization</td>\n",
              "      <td>https://covid19.who.int/</td>\n",
              "    </tr>\n",
              "    <tr>\n",
              "      <th>4</th>\n",
              "      <td>Afghanistan</td>\n",
              "      <td>2021-02-26</td>\n",
              "      <td>Johnson&amp;Johnson, Oxford/AstraZeneca, Pfizer/Bi...</td>\n",
              "      <td>World Health Organization</td>\n",
              "      <td>https://covid19.who.int/</td>\n",
              "    </tr>\n",
              "    <tr>\n",
              "      <th>...</th>\n",
              "      <td>...</td>\n",
              "      <td>...</td>\n",
              "      <td>...</td>\n",
              "      <td>...</td>\n",
              "      <td>...</td>\n",
              "    </tr>\n",
              "    <tr>\n",
              "      <th>37772</th>\n",
              "      <td>Zimbabwe</td>\n",
              "      <td>2021-08-11</td>\n",
              "      <td>Oxford/AstraZeneca, Sinopharm/Beijing, Sinovac...</td>\n",
              "      <td>Ministry of Health</td>\n",
              "      <td>https://www.arcgis.com/home/webmap/viewer.html...</td>\n",
              "    </tr>\n",
              "    <tr>\n",
              "      <th>37773</th>\n",
              "      <td>Zimbabwe</td>\n",
              "      <td>2021-08-12</td>\n",
              "      <td>Oxford/AstraZeneca, Sinopharm/Beijing, Sinovac...</td>\n",
              "      <td>Ministry of Health</td>\n",
              "      <td>https://www.arcgis.com/home/webmap/viewer.html...</td>\n",
              "    </tr>\n",
              "    <tr>\n",
              "      <th>37774</th>\n",
              "      <td>Zimbabwe</td>\n",
              "      <td>2021-08-13</td>\n",
              "      <td>Oxford/AstraZeneca, Sinopharm/Beijing, Sinovac...</td>\n",
              "      <td>Ministry of Health</td>\n",
              "      <td>https://www.arcgis.com/home/webmap/viewer.html...</td>\n",
              "    </tr>\n",
              "    <tr>\n",
              "      <th>37775</th>\n",
              "      <td>Zimbabwe</td>\n",
              "      <td>2021-08-14</td>\n",
              "      <td>Oxford/AstraZeneca, Sinopharm/Beijing, Sinovac...</td>\n",
              "      <td>Ministry of Health</td>\n",
              "      <td>https://www.arcgis.com/home/webmap/viewer.html...</td>\n",
              "    </tr>\n",
              "    <tr>\n",
              "      <th>37776</th>\n",
              "      <td>Zimbabwe</td>\n",
              "      <td>2021-08-15</td>\n",
              "      <td>Oxford/AstraZeneca, Sinopharm/Beijing, Sinovac...</td>\n",
              "      <td>Ministry of Health</td>\n",
              "      <td>https://www.arcgis.com/home/webmap/viewer.html...</td>\n",
              "    </tr>\n",
              "  </tbody>\n",
              "</table>\n",
              "<p>37777 rows × 5 columns</p>\n",
              "</div>"
            ],
            "text/plain": [
              "           country  ...                                     source_website\n",
              "0      Afghanistan  ...                           https://covid19.who.int/\n",
              "1      Afghanistan  ...                           https://covid19.who.int/\n",
              "2      Afghanistan  ...                           https://covid19.who.int/\n",
              "3      Afghanistan  ...                           https://covid19.who.int/\n",
              "4      Afghanistan  ...                           https://covid19.who.int/\n",
              "...            ...  ...                                                ...\n",
              "37772     Zimbabwe  ...  https://www.arcgis.com/home/webmap/viewer.html...\n",
              "37773     Zimbabwe  ...  https://www.arcgis.com/home/webmap/viewer.html...\n",
              "37774     Zimbabwe  ...  https://www.arcgis.com/home/webmap/viewer.html...\n",
              "37775     Zimbabwe  ...  https://www.arcgis.com/home/webmap/viewer.html...\n",
              "37776     Zimbabwe  ...  https://www.arcgis.com/home/webmap/viewer.html...\n",
              "\n",
              "[37777 rows x 5 columns]"
            ]
          },
          "metadata": {},
          "execution_count": 6
        }
      ]
    },
    {
      "cell_type": "markdown",
      "metadata": {
        "id": "O38Y6cKaYL-o"
      },
      "source": [
        "#Total Data"
      ]
    },
    {
      "cell_type": "code",
      "metadata": {
        "id": "0EPvC3V-20Um",
        "colab": {
          "base_uri": "https://localhost:8080/"
        },
        "outputId": "f50206a1-2d9a-4804-8a08-5dff7c9948c0"
      },
      "source": [
        "df.shape"
      ],
      "execution_count": 7,
      "outputs": [
        {
          "output_type": "execute_result",
          "data": {
            "text/plain": [
              "(37777, 15)"
            ]
          },
          "metadata": {},
          "execution_count": 7
        }
      ]
    },
    {
      "cell_type": "markdown",
      "metadata": {
        "id": "loN-rLx8YUPJ"
      },
      "source": [
        "#Info Data"
      ]
    },
    {
      "cell_type": "code",
      "metadata": {
        "id": "NCTl4W6u2z7C",
        "colab": {
          "base_uri": "https://localhost:8080/"
        },
        "outputId": "fb373f4b-119c-4b0f-a2d9-7e72e614f6c5"
      },
      "source": [
        "df.info()"
      ],
      "execution_count": 8,
      "outputs": [
        {
          "output_type": "stream",
          "text": [
            "<class 'pandas.core.frame.DataFrame'>\n",
            "RangeIndex: 37777 entries, 0 to 37776\n",
            "Data columns (total 15 columns):\n",
            " #   Column                               Non-Null Count  Dtype  \n",
            "---  ------                               --------------  -----  \n",
            " 0   country                              37777 non-null  object \n",
            " 1   iso_code                             37777 non-null  object \n",
            " 2   date                                 37777 non-null  object \n",
            " 3   total_vaccinations                   20874 non-null  float64\n",
            " 4   people_vaccinated                    19948 non-null  float64\n",
            " 5   people_fully_vaccinated              17069 non-null  float64\n",
            " 6   daily_vaccinations_raw               17172 non-null  float64\n",
            " 7   daily_vaccinations                   37532 non-null  float64\n",
            " 8   total_vaccinations_per_hundred       20874 non-null  float64\n",
            " 9   people_vaccinated_per_hundred        19948 non-null  float64\n",
            " 10  people_fully_vaccinated_per_hundred  17069 non-null  float64\n",
            " 11  daily_vaccinations_per_million       37532 non-null  float64\n",
            " 12  vaccines                             37777 non-null  object \n",
            " 13  source_name                          37777 non-null  object \n",
            " 14  source_website                       37777 non-null  object \n",
            "dtypes: float64(9), object(6)\n",
            "memory usage: 4.3+ MB\n"
          ],
          "name": "stdout"
        }
      ]
    },
    {
      "cell_type": "markdown",
      "metadata": {
        "id": "FOBC6X8Oa6IX"
      },
      "source": [
        "#Memberikan Jumlah Kolom-Nilai yang Hilang"
      ]
    },
    {
      "cell_type": "code",
      "metadata": {
        "colab": {
          "base_uri": "https://localhost:8080/"
        },
        "id": "OzIFind1azls",
        "outputId": "ed0c0af8-6689-457b-dc15-ff11e5964875"
      },
      "source": [
        "df.isnull().sum()"
      ],
      "execution_count": 9,
      "outputs": [
        {
          "output_type": "execute_result",
          "data": {
            "text/plain": [
              "country                                    0\n",
              "iso_code                                   0\n",
              "date                                       0\n",
              "total_vaccinations                     16903\n",
              "people_vaccinated                      17829\n",
              "people_fully_vaccinated                20708\n",
              "daily_vaccinations_raw                 20605\n",
              "daily_vaccinations                       245\n",
              "total_vaccinations_per_hundred         16903\n",
              "people_vaccinated_per_hundred          17829\n",
              "people_fully_vaccinated_per_hundred    20708\n",
              "daily_vaccinations_per_million           245\n",
              "vaccines                                   0\n",
              "source_name                                0\n",
              "source_website                             0\n",
              "dtype: int64"
            ]
          },
          "metadata": {},
          "execution_count": 9
        }
      ]
    },
    {
      "cell_type": "markdown",
      "metadata": {
        "id": "wy1Xj23acL2j"
      },
      "source": [
        "#Tabel Data Datetime"
      ]
    },
    {
      "cell_type": "code",
      "metadata": {
        "colab": {
          "base_uri": "https://localhost:8080/",
          "height": 206
        },
        "id": "WuQTARfua0Ut",
        "outputId": "b31a174d-dde7-467f-f90d-22a5622bd082"
      },
      "source": [
        "df['date']=pd.to_datetime(df['date'])\n",
        "df['date'].head()\n",
        "df['daily_vaccinations'].fillna(df['daily_vaccinations'].mean(), inplace=True) # we will fill the null row\n",
        "df = df[['date','daily_vaccinations' ]]\n",
        "df.head()"
      ],
      "execution_count": 10,
      "outputs": [
        {
          "output_type": "execute_result",
          "data": {
            "text/html": [
              "<div>\n",
              "<style scoped>\n",
              "    .dataframe tbody tr th:only-of-type {\n",
              "        vertical-align: middle;\n",
              "    }\n",
              "\n",
              "    .dataframe tbody tr th {\n",
              "        vertical-align: top;\n",
              "    }\n",
              "\n",
              "    .dataframe thead th {\n",
              "        text-align: right;\n",
              "    }\n",
              "</style>\n",
              "<table border=\"1\" class=\"dataframe\">\n",
              "  <thead>\n",
              "    <tr style=\"text-align: right;\">\n",
              "      <th></th>\n",
              "      <th>date</th>\n",
              "      <th>daily_vaccinations</th>\n",
              "    </tr>\n",
              "  </thead>\n",
              "  <tbody>\n",
              "    <tr>\n",
              "      <th>0</th>\n",
              "      <td>2021-02-22</td>\n",
              "      <td>125156.107029</td>\n",
              "    </tr>\n",
              "    <tr>\n",
              "      <th>1</th>\n",
              "      <td>2021-02-23</td>\n",
              "      <td>1367.000000</td>\n",
              "    </tr>\n",
              "    <tr>\n",
              "      <th>2</th>\n",
              "      <td>2021-02-24</td>\n",
              "      <td>1367.000000</td>\n",
              "    </tr>\n",
              "    <tr>\n",
              "      <th>3</th>\n",
              "      <td>2021-02-25</td>\n",
              "      <td>1367.000000</td>\n",
              "    </tr>\n",
              "    <tr>\n",
              "      <th>4</th>\n",
              "      <td>2021-02-26</td>\n",
              "      <td>1367.000000</td>\n",
              "    </tr>\n",
              "  </tbody>\n",
              "</table>\n",
              "</div>"
            ],
            "text/plain": [
              "        date  daily_vaccinations\n",
              "0 2021-02-22       125156.107029\n",
              "1 2021-02-23         1367.000000\n",
              "2 2021-02-24         1367.000000\n",
              "3 2021-02-25         1367.000000\n",
              "4 2021-02-26         1367.000000"
            ]
          },
          "metadata": {},
          "execution_count": 10
        }
      ]
    },
    {
      "cell_type": "markdown",
      "metadata": {
        "id": "82_Tird60pXr"
      },
      "source": [
        "#Download wordnet dan stopwords"
      ]
    },
    {
      "cell_type": "code",
      "metadata": {
        "id": "boCRCJWGXhS9",
        "colab": {
          "base_uri": "https://localhost:8080/"
        },
        "outputId": "2717cb5b-be21-42e6-d9ae-92bb002b7e2a"
      },
      "source": [
        "nltk.download('wordnet')\n",
        "nltk.download('stopwords')"
      ],
      "execution_count": 11,
      "outputs": [
        {
          "output_type": "stream",
          "text": [
            "[nltk_data] Downloading package wordnet to /root/nltk_data...\n",
            "[nltk_data]   Package wordnet is already up-to-date!\n",
            "[nltk_data] Downloading package stopwords to /root/nltk_data...\n",
            "[nltk_data]   Package stopwords is already up-to-date!\n"
          ],
          "name": "stdout"
        },
        {
          "output_type": "execute_result",
          "data": {
            "text/plain": [
              "True"
            ]
          },
          "metadata": {},
          "execution_count": 11
        }
      ]
    },
    {
      "cell_type": "markdown",
      "metadata": {
        "id": "HXkEXs_92NL5"
      },
      "source": [
        "#Menghapus functuation"
      ]
    },
    {
      "cell_type": "code",
      "metadata": {
        "id": "sx3XZfJDqsAb"
      },
      "source": [
        "def cleaner(data):\n",
        "    return(data.translate(str.maketrans('','', string.punctuation)))\n",
        "    df_new.country = df_new.country.apply(lambda x: cleaner(x))\n",
        "    df_new.date = df_new.date.apply(lambda x: lem(x))\n",
        "    df_new.vaccines = df_new.vaccines.apply(lambda x: lem(x))\n",
        "    df_new.source_name = df_new.source_name.apply(lambda x: lem(x))\n",
        "    df_new.source_website = df_new.source_website.apply(lambda x: lem(x))"
      ],
      "execution_count": 12,
      "outputs": []
    },
    {
      "cell_type": "markdown",
      "metadata": {
        "id": "FfcNtK1901EC"
      },
      "source": [
        "#Lematization"
      ]
    },
    {
      "cell_type": "code",
      "metadata": {
        "id": "xShgHLz7r6TR"
      },
      "source": [
        "lemmatizer = WordNetLemmatizer()\n",
        "def lem(data):\n",
        "    pos_dict = {'N': wn.NOUN, 'V': wn.VERB, 'J': wn.ADJ, 'R': wn.ADV}\n",
        "    return(' '.join([lemmatizer.lemmatize(w,pos_dict.get(t, wn.NOUN)) for w,t in nltk.pos_tag(data.split())]))\n",
        "    df_new.country = df_new.country.apply(lambda x: lem(x))\n",
        "    df_new.date = df_new.date.apply(lambda x: lem(x))\n",
        "    df_new.vaccines = df_new.vaccines.apply(lambda x: lem(x))\n",
        "    df_new.source_name = df_new.source_name.apply(lambda x: lem(x))\n",
        "    df_new.source_website = df_new.source_website.apply(lambda x: lem(x))"
      ],
      "execution_count": 13,
      "outputs": []
    },
    {
      "cell_type": "markdown",
      "metadata": {
        "id": "FIwpZI-r0-Jk"
      },
      "source": [
        "#Menghapus Angka"
      ]
    },
    {
      "cell_type": "code",
      "metadata": {
        "id": "tXlVZPYPsBHb"
      },
      "source": [
        "def rem_numbers(data):\n",
        "    return re.sub('[0-9]+','',data)\n",
        "    df_new['country'].apply(rem_numbers)\n",
        "    df_new['date'].apply(rem_numbers)\n",
        "    df_new['vaccines'].apply(rem_numbers)\n",
        "    df_new['source_name'].apply(rem_numbers)\n",
        "    df_new['source_website'].apply(rem_numbers)"
      ],
      "execution_count": 14,
      "outputs": []
    },
    {
      "cell_type": "markdown",
      "metadata": {
        "id": "LOJWzI2M1GW5"
      },
      "source": [
        "#Menghapus Stopword"
      ]
    },
    {
      "cell_type": "code",
      "metadata": {
        "id": "OYlRsXlpsUG_"
      },
      "source": [
        "st_words = stopwords.words()\n",
        "def stopword(data):\n",
        "    return(' '.join([w for w in data.split() if w not in st_words ]))\n",
        "    df_new.country = df_new.country.apply(lambda x: stopword(x))\n",
        "    df_new.date = df_new.date.apply(lambda x: lem(x))\n",
        "    df_new.vaccines = df_new.vaccines.apply(lambda x: lem(x))\n",
        "    df_new.source_name = df_new.source_name.apply(lambda x: lem(x))\n",
        "    df_new.source_website = df_new.source_website.apply(lambda x: lem(x))"
      ],
      "execution_count": 15,
      "outputs": []
    },
    {
      "cell_type": "markdown",
      "metadata": {
        "id": "mxPE-VPG1VGL"
      },
      "source": [
        "#Menampilkan Data Setelah Cleansing"
      ]
    },
    {
      "cell_type": "code",
      "metadata": {
        "colab": {
          "base_uri": "https://localhost:8080/",
          "height": 363
        },
        "id": "5GyLEdfxtXHN",
        "outputId": "7fda64cd-6da5-4531-cef7-1794caf7a33e"
      },
      "source": [
        "df_new.head(10)"
      ],
      "execution_count": 16,
      "outputs": [
        {
          "output_type": "execute_result",
          "data": {
            "text/html": [
              "<div>\n",
              "<style scoped>\n",
              "    .dataframe tbody tr th:only-of-type {\n",
              "        vertical-align: middle;\n",
              "    }\n",
              "\n",
              "    .dataframe tbody tr th {\n",
              "        vertical-align: top;\n",
              "    }\n",
              "\n",
              "    .dataframe thead th {\n",
              "        text-align: right;\n",
              "    }\n",
              "</style>\n",
              "<table border=\"1\" class=\"dataframe\">\n",
              "  <thead>\n",
              "    <tr style=\"text-align: right;\">\n",
              "      <th></th>\n",
              "      <th>country</th>\n",
              "      <th>date</th>\n",
              "      <th>vaccines</th>\n",
              "      <th>source_name</th>\n",
              "      <th>source_website</th>\n",
              "    </tr>\n",
              "  </thead>\n",
              "  <tbody>\n",
              "    <tr>\n",
              "      <th>0</th>\n",
              "      <td>Afghanistan</td>\n",
              "      <td>2021-02-22</td>\n",
              "      <td>Johnson&amp;Johnson, Oxford/AstraZeneca, Pfizer/Bi...</td>\n",
              "      <td>World Health Organization</td>\n",
              "      <td>https://covid19.who.int/</td>\n",
              "    </tr>\n",
              "    <tr>\n",
              "      <th>1</th>\n",
              "      <td>Afghanistan</td>\n",
              "      <td>2021-02-23</td>\n",
              "      <td>Johnson&amp;Johnson, Oxford/AstraZeneca, Pfizer/Bi...</td>\n",
              "      <td>World Health Organization</td>\n",
              "      <td>https://covid19.who.int/</td>\n",
              "    </tr>\n",
              "    <tr>\n",
              "      <th>2</th>\n",
              "      <td>Afghanistan</td>\n",
              "      <td>2021-02-24</td>\n",
              "      <td>Johnson&amp;Johnson, Oxford/AstraZeneca, Pfizer/Bi...</td>\n",
              "      <td>World Health Organization</td>\n",
              "      <td>https://covid19.who.int/</td>\n",
              "    </tr>\n",
              "    <tr>\n",
              "      <th>3</th>\n",
              "      <td>Afghanistan</td>\n",
              "      <td>2021-02-25</td>\n",
              "      <td>Johnson&amp;Johnson, Oxford/AstraZeneca, Pfizer/Bi...</td>\n",
              "      <td>World Health Organization</td>\n",
              "      <td>https://covid19.who.int/</td>\n",
              "    </tr>\n",
              "    <tr>\n",
              "      <th>4</th>\n",
              "      <td>Afghanistan</td>\n",
              "      <td>2021-02-26</td>\n",
              "      <td>Johnson&amp;Johnson, Oxford/AstraZeneca, Pfizer/Bi...</td>\n",
              "      <td>World Health Organization</td>\n",
              "      <td>https://covid19.who.int/</td>\n",
              "    </tr>\n",
              "    <tr>\n",
              "      <th>5</th>\n",
              "      <td>Afghanistan</td>\n",
              "      <td>2021-02-27</td>\n",
              "      <td>Johnson&amp;Johnson, Oxford/AstraZeneca, Pfizer/Bi...</td>\n",
              "      <td>World Health Organization</td>\n",
              "      <td>https://covid19.who.int/</td>\n",
              "    </tr>\n",
              "    <tr>\n",
              "      <th>6</th>\n",
              "      <td>Afghanistan</td>\n",
              "      <td>2021-02-28</td>\n",
              "      <td>Johnson&amp;Johnson, Oxford/AstraZeneca, Pfizer/Bi...</td>\n",
              "      <td>World Health Organization</td>\n",
              "      <td>https://covid19.who.int/</td>\n",
              "    </tr>\n",
              "    <tr>\n",
              "      <th>7</th>\n",
              "      <td>Afghanistan</td>\n",
              "      <td>2021-03-01</td>\n",
              "      <td>Johnson&amp;Johnson, Oxford/AstraZeneca, Pfizer/Bi...</td>\n",
              "      <td>World Health Organization</td>\n",
              "      <td>https://covid19.who.int/</td>\n",
              "    </tr>\n",
              "    <tr>\n",
              "      <th>8</th>\n",
              "      <td>Afghanistan</td>\n",
              "      <td>2021-03-02</td>\n",
              "      <td>Johnson&amp;Johnson, Oxford/AstraZeneca, Pfizer/Bi...</td>\n",
              "      <td>World Health Organization</td>\n",
              "      <td>https://covid19.who.int/</td>\n",
              "    </tr>\n",
              "    <tr>\n",
              "      <th>9</th>\n",
              "      <td>Afghanistan</td>\n",
              "      <td>2021-03-03</td>\n",
              "      <td>Johnson&amp;Johnson, Oxford/AstraZeneca, Pfizer/Bi...</td>\n",
              "      <td>World Health Organization</td>\n",
              "      <td>https://covid19.who.int/</td>\n",
              "    </tr>\n",
              "  </tbody>\n",
              "</table>\n",
              "</div>"
            ],
            "text/plain": [
              "       country        date  ...                source_name            source_website\n",
              "0  Afghanistan  2021-02-22  ...  World Health Organization  https://covid19.who.int/\n",
              "1  Afghanistan  2021-02-23  ...  World Health Organization  https://covid19.who.int/\n",
              "2  Afghanistan  2021-02-24  ...  World Health Organization  https://covid19.who.int/\n",
              "3  Afghanistan  2021-02-25  ...  World Health Organization  https://covid19.who.int/\n",
              "4  Afghanistan  2021-02-26  ...  World Health Organization  https://covid19.who.int/\n",
              "5  Afghanistan  2021-02-27  ...  World Health Organization  https://covid19.who.int/\n",
              "6  Afghanistan  2021-02-28  ...  World Health Organization  https://covid19.who.int/\n",
              "7  Afghanistan  2021-03-01  ...  World Health Organization  https://covid19.who.int/\n",
              "8  Afghanistan  2021-03-02  ...  World Health Organization  https://covid19.who.int/\n",
              "9  Afghanistan  2021-03-03  ...  World Health Organization  https://covid19.who.int/\n",
              "\n",
              "[10 rows x 5 columns]"
            ]
          },
          "metadata": {},
          "execution_count": 16
        }
      ]
    },
    {
      "cell_type": "markdown",
      "metadata": {
        "id": "gZ9pRtdFc8_j"
      },
      "source": [
        "#Menampilkan Tabel untuk Model dan Plot (Time Series)"
      ]
    },
    {
      "cell_type": "code",
      "metadata": {
        "id": "qocwQXZaCLbv",
        "colab": {
          "base_uri": "https://localhost:8080/",
          "height": 237
        },
        "outputId": "78dbae0e-f407-49d0-bab6-e3b21f82c15d"
      },
      "source": [
        "delhi=df[['date','daily_vaccinations']].copy()\n",
        "delhi['just_date'] = delhi['date'].dt.date\n",
        "delhifinal=delhi.drop('date',axis=1)\n",
        "delhifinal.set_index('just_date', inplace= True)\n",
        "delhifinal.head()"
      ],
      "execution_count": 17,
      "outputs": [
        {
          "output_type": "execute_result",
          "data": {
            "text/html": [
              "<div>\n",
              "<style scoped>\n",
              "    .dataframe tbody tr th:only-of-type {\n",
              "        vertical-align: middle;\n",
              "    }\n",
              "\n",
              "    .dataframe tbody tr th {\n",
              "        vertical-align: top;\n",
              "    }\n",
              "\n",
              "    .dataframe thead th {\n",
              "        text-align: right;\n",
              "    }\n",
              "</style>\n",
              "<table border=\"1\" class=\"dataframe\">\n",
              "  <thead>\n",
              "    <tr style=\"text-align: right;\">\n",
              "      <th></th>\n",
              "      <th>daily_vaccinations</th>\n",
              "    </tr>\n",
              "    <tr>\n",
              "      <th>just_date</th>\n",
              "      <th></th>\n",
              "    </tr>\n",
              "  </thead>\n",
              "  <tbody>\n",
              "    <tr>\n",
              "      <th>2021-02-22</th>\n",
              "      <td>125156.107029</td>\n",
              "    </tr>\n",
              "    <tr>\n",
              "      <th>2021-02-23</th>\n",
              "      <td>1367.000000</td>\n",
              "    </tr>\n",
              "    <tr>\n",
              "      <th>2021-02-24</th>\n",
              "      <td>1367.000000</td>\n",
              "    </tr>\n",
              "    <tr>\n",
              "      <th>2021-02-25</th>\n",
              "      <td>1367.000000</td>\n",
              "    </tr>\n",
              "    <tr>\n",
              "      <th>2021-02-26</th>\n",
              "      <td>1367.000000</td>\n",
              "    </tr>\n",
              "  </tbody>\n",
              "</table>\n",
              "</div>"
            ],
            "text/plain": [
              "            daily_vaccinations\n",
              "just_date                     \n",
              "2021-02-22       125156.107029\n",
              "2021-02-23         1367.000000\n",
              "2021-02-24         1367.000000\n",
              "2021-02-25         1367.000000\n",
              "2021-02-26         1367.000000"
            ]
          },
          "metadata": {},
          "execution_count": 17
        }
      ]
    },
    {
      "cell_type": "code",
      "metadata": {
        "id": "Mg8jqxr2L7-M",
        "colab": {
          "base_uri": "https://localhost:8080/"
        },
        "outputId": "dcf548d3-0d92-444a-bda2-ef5034f825b0"
      },
      "source": [
        "delhifinal.info()"
      ],
      "execution_count": 18,
      "outputs": [
        {
          "output_type": "stream",
          "text": [
            "<class 'pandas.core.frame.DataFrame'>\n",
            "Index: 37777 entries, 2021-02-22 to 2021-08-15\n",
            "Data columns (total 1 columns):\n",
            " #   Column              Non-Null Count  Dtype  \n",
            "---  ------              --------------  -----  \n",
            " 0   daily_vaccinations  37777 non-null  float64\n",
            "dtypes: float64(1)\n",
            "memory usage: 590.3+ KB\n"
          ],
          "name": "stdout"
        }
      ]
    },
    {
      "cell_type": "code",
      "metadata": {
        "id": "qyD6VV1yu-UP",
        "colab": {
          "base_uri": "https://localhost:8080/",
          "height": 488
        },
        "outputId": "11f2ecb5-87c3-4909-f356-c81bcf9ca184"
      },
      "source": [
        "plt.figure(figsize=(20,8))\n",
        "plt.plot(delhifinal)\n",
        "plt.title('Vaccine Statistics')\n",
        "plt.xlabel('Date')\n",
        "plt.ylabel('Daily Vaccinations')\n",
        "plt.show()"
      ],
      "execution_count": 19,
      "outputs": [
        {
          "output_type": "display_data",
          "data": {
            "image/png": "[encoded data removed]",
            "text/plain": [
              "<Figure size 1440x576 with 1 Axes>"
            ]
          },
          "metadata": {
            "needs_background": "light"
          }
        }
      ]
    },
    {
      "cell_type": "code",
      "metadata": {
        "id": "7hSZjJbHeIbQ"
      },
      "source": [
        "date = df['date'].values\n",
        "daily = df['daily_vaccinations'].values\n"
      ],
      "execution_count": 20,
      "outputs": []
    },
    {
      "cell_type": "code",
      "metadata": {
        "id": "UFEEBi1gztJ0"
      },
      "source": [
        "def windowed_dataset(series, window_size, batch_size, shuffle_buffer):\n",
        "    series = tf.expand_dims(series, axis=-1)\n",
        "    ds = tf.data.Dataset.from_tensor_slices(series)\n",
        "    ds = ds.window(window_size + 1, shift=1, drop_remainder=True)\n",
        "    ds = ds.flat_map(lambda w: w.batch(window_size + 1))\n",
        "    ds = ds.shuffle(shuffle_buffer)\n",
        "    ds = ds.map(lambda w: (w[:-1], w[-1:]))\n",
        "    return ds.batch(batch_size).prefetch(1)"
      ],
      "execution_count": 21,
      "outputs": []
    },
    {
      "cell_type": "markdown",
      "metadata": {
        "id": "x7tzLiUY3vFR"
      },
      "source": [
        "#Split"
      ]
    },
    {
      "cell_type": "code",
      "metadata": {
        "colab": {
          "base_uri": "https://localhost:8080/"
        },
        "id": "zRHtey_Xtzl3",
        "outputId": "a1b50632-ef18-4a10-be0f-beec4b6119e9"
      },
      "source": [
        "x_train, x_test, y_train, y_test = train_test_split(date, daily, test_size = 0.2, random_state = 0 , shuffle=False)\n",
        "print(len(x_train), len(x_test))"
      ],
      "execution_count": 22,
      "outputs": [
        {
          "output_type": "stream",
          "text": [
            "30221 7556\n"
          ],
          "name": "stdout"
        }
      ]
    },
    {
      "cell_type": "markdown",
      "metadata": {
        "id": "OrcVc0Ze4ARs"
      },
      "source": [
        "#Membangun Model menggunakan Model Sequential"
      ]
    },
    {
      "cell_type": "code",
      "metadata": {
        "id": "OVxDex_GgD-c",
        "colab": {
          "base_uri": "https://localhost:8080/"
        },
        "outputId": "6ab02a30-2f7e-42b9-8709-9832178259e4"
      },
      "source": [
        "scaler = MinMaxScaler()\n",
        "train_scale = scaler.fit_transform(x_train.reshape(-1, 1))\n",
        "test_scale = scaler.fit_transform(x_test.reshape(-1, 1))\n",
        "look_back = 20\n",
        "train_gen = TimeseriesGenerator(train_scale, train_scale, length=look_back, batch_size=20)\n",
        "test_gen = TimeseriesGenerator(test_scale, test_scale, length=look_back, batch_size=1)\n",
        "model = tf.keras.Sequential([\n",
        "  tf.keras.layers.Conv1D(filters=312, kernel_size=5,\n",
        "                      strides=1, padding=\"causal\",\n",
        "                      activation=\"relu\",\n",
        "                      input_shape=[None, 1]),\n",
        "  tf.keras.layers.LSTM(128, return_sequences=True),\n",
        "  tf.keras.layers.LSTM(120),\n",
        "  tf.keras.layers.Dense(60, activation=\"softmax\"),\n",
        "  tf.keras.layers.Dense(20, activation=\"softmax\"),\n",
        "  tf.keras.layers.Dense(2),\n",
        "  tf.keras.layers.Lambda(lambda x: x * 40)\n",
        "])\n",
        "\n",
        "lr_schedule = tf.keras.callbacks.LearningRateScheduler(\n",
        "    lambda epoch: 1e-8 * 10**(epoch / 20))\n",
        "optimizer = tf.keras.optimizers.SGD(lr=1e-8, momentum=0.9)\n",
        "model.summary()"
      ],
      "execution_count": 23,
      "outputs": [
        {
          "output_type": "stream",
          "text": [
            "Model: \"sequential\"\n",
            "_________________________________________________________________\n",
            "Layer (type)                 Output Shape              Param #   \n",
            "=================================================================\n",
            "conv1d (Conv1D)              (None, None, 312)         1872      \n",
            "_________________________________________________________________\n",
            "lstm (LSTM)                  (None, None, 128)         225792    \n",
            "_________________________________________________________________\n",
            "lstm_1 (LSTM)                (None, 120)               119520    \n",
            "_________________________________________________________________\n",
            "dense (Dense)                (None, 60)                7260      \n",
            "_________________________________________________________________\n",
            "dense_1 (Dense)              (None, 20)                1220      \n",
            "_________________________________________________________________\n",
            "dense_2 (Dense)              (None, 2)                 42        \n",
            "_________________________________________________________________\n",
            "lambda (Lambda)              (None, 2)                 0         \n",
            "=================================================================\n",
            "Total params: 355,706\n",
            "Trainable params: 355,706\n",
            "Non-trainable params: 0\n",
            "_________________________________________________________________\n"
          ],
          "name": "stdout"
        },
        {
          "output_type": "stream",
          "text": [
            "/usr/local/lib/python3.7/dist-packages/keras/optimizer_v2/optimizer_v2.py:356: UserWarning: The `lr` argument is deprecated, use `learning_rate` instead.\n",
            "  \"The `lr` argument is deprecated, use `learning_rate` instead.\")\n"
          ],
          "name": "stderr"
        }
      ]
    },
    {
      "cell_type": "code",
      "metadata": {
        "colab": {
          "base_uri": "https://localhost:8080/"
        },
        "id": "rYZxCDrnx_EN",
        "outputId": "e3b13083-4f43-4787-d3a0-cde8f96753e5"
      },
      "source": [
        "max = df['daily_vaccinations'].max()\n",
        "print('Max value : ' )\n",
        "print(max)"
      ],
      "execution_count": 24,
      "outputs": [
        {
          "output_type": "stream",
          "text": [
            "Max value : \n",
            "22424286.0\n"
          ],
          "name": "stdout"
        }
      ]
    },
    {
      "cell_type": "code",
      "metadata": {
        "colab": {
          "base_uri": "https://localhost:8080/"
        },
        "id": "CKn4mIPMyFM0",
        "outputId": "7ea56155-1211-4b56-f37b-64bdb4d4ad25"
      },
      "source": [
        "min = df['daily_vaccinations'].min()\n",
        "print('Min Value : ')\n",
        "print(min)"
      ],
      "execution_count": 25,
      "outputs": [
        {
          "output_type": "stream",
          "text": [
            "Min Value : \n",
            "0.0\n"
          ],
          "name": "stdout"
        }
      ]
    },
    {
      "cell_type": "code",
      "metadata": {
        "colab": {
          "base_uri": "https://localhost:8080/"
        },
        "id": "H1wC7WpbyJP9",
        "outputId": "0548c3de-2cf0-4162-933f-ca5feeb202c4"
      },
      "source": [
        "x = (1722328.0 - 0.0) * (10 / 100)\n",
        "print(x)"
      ],
      "execution_count": 26,
      "outputs": [
        {
          "output_type": "stream",
          "text": [
            "172232.80000000002\n"
          ],
          "name": "stdout"
        }
      ]
    },
    {
      "cell_type": "markdown",
      "metadata": {
        "id": "Vs_yH-_p4P2y"
      },
      "source": [
        "#Implementasi Callback Apabila memenuhi Standar Akurasi yang Sudah Ditentukan"
      ]
    },
    {
      "cell_type": "code",
      "metadata": {
        "id": "5IU9T1CjgKjB"
      },
      "source": [
        "class myCallback(tf.keras.callbacks.Callback):\n",
        "  def on_epoch_end(self, epoch, logs={}):\n",
        "    if(logs.get('accuracy')>0.92 and logs.get('mae')<x):\n",
        "      self.model.stop_training = True\n",
        "      print(\"\\nAkurasi pada training set dan validation set di atas 90% dan MAE < 10%\")\n",
        "callbacks = myCallback()"
      ],
      "execution_count": 27,
      "outputs": []
    },
    {
      "cell_type": "markdown",
      "metadata": {
        "id": "PpsoVyXt4p-C"
      },
      "source": [
        "#Pelatihan Model"
      ]
    },
    {
      "cell_type": "code",
      "metadata": {
        "id": "-jkuLvtCgOCU",
        "colab": {
          "base_uri": "https://localhost:8080/"
        },
        "outputId": "576e2244-99e4-460e-a087-d4387ccb32ce"
      },
      "source": [
        "model.compile(loss=tf.keras.losses.Huber(),\n",
        "              optimizer=optimizer,\n",
        "              metrics=[\"accuracy\", \"mae\"])\n",
        "history = model.fit(train_gen, epochs=3, validation_data=test_gen, verbose=1, callbacks=[callbacks])"
      ],
      "execution_count": 28,
      "outputs": [
        {
          "output_type": "stream",
          "text": [
            "Epoch 1/3\n",
            "1511/1511 [==============================] - 100s 64ms/step - loss: 0.8054 - accuracy: 1.0000 - mae: 1.2601 - val_loss: 0.7615 - val_accuracy: 1.0000 - val_mae: 1.2083\n",
            "\n",
            "Akurasi pada training set dan validation set di atas 90% dan MAE < 10%\n"
          ],
          "name": "stdout"
        }
      ]
    },
    {
      "cell_type": "markdown",
      "metadata": {
        "id": "em2QX3wU5CKa"
      },
      "source": [
        "#Grafik MAE"
      ]
    },
    {
      "cell_type": "code",
      "metadata": {
        "id": "EknoGcw9geUX",
        "colab": {
          "base_uri": "https://localhost:8080/",
          "height": 295
        },
        "outputId": "d3c320a4-2d67-4935-c1ed-4acd4ee913e2"
      },
      "source": [
        "plt.plot(history.history['mae'])\n",
        "plt.plot(history.history['val_mae'])\n",
        "plt.title('Grafik MAE')\n",
        "plt.ylabel('Nilai MAE')\n",
        "plt.xlabel('epoch')\n",
        "plt.legend(['train', 'test'], loc='upper left')\n",
        "plt.show()"
      ],
      "execution_count": 29,
      "outputs": [
        {
          "output_type": "display_data",
          "data": {
            "image/png": "[encoded data removed]",
            "text/plain": [
              "<Figure size 432x288 with 1 Axes>"
            ]
          },
          "metadata": {
            "needs_background": "light"
          }
        }
      ]
    },
    {
      "cell_type": "markdown",
      "metadata": {
        "id": "gysu-ZSDmCnD"
      },
      "source": [
        "#Grafik Akurasi"
      ]
    },
    {
      "cell_type": "code",
      "metadata": {
        "colab": {
          "base_uri": "https://localhost:8080/",
          "height": 295
        },
        "id": "fkty9g0_mMuG",
        "outputId": "18fc14fc-b2b8-44cf-c80b-e39d3cf6472c"
      },
      "source": [
        "plt.plot(history.history['accuracy'])\n",
        "plt.plot(history.history['val_accuracy'])\n",
        "plt.title('Grafik Akurasi')\n",
        "plt.ylabel('Nilai Akurasi')\n",
        "plt.xlabel('epoch')\n",
        "plt.legend(['train', 'test'], loc='upper left')\n",
        "plt.show()"
      ],
      "execution_count": 30,
      "outputs": [
        {
          "output_type": "display_data",
          "data": {
            "image/png": "[encoded data removed]",
            "text/plain": [
              "<Figure size 432x288 with 1 Axes>"
            ]
          },
          "metadata": {
            "needs_background": "light"
          }
        }
      ]
    },
    {
      "cell_type": "markdown",
      "metadata": {
        "id": "V4MQqnBS5GvZ"
      },
      "source": [
        "#Grafik Loss"
      ]
    },
    {
      "cell_type": "code",
      "metadata": {
        "id": "As4VmNcigh7M",
        "colab": {
          "base_uri": "https://localhost:8080/",
          "height": 295
        },
        "outputId": "378ccaf4-f0cb-4479-fa34-b57dda1f820d"
      },
      "source": [
        "plt.plot(history.history['loss'])\n",
        "plt.plot(history.history['val_loss'])\n",
        "plt.title('Grafik Loss')\n",
        "plt.ylabel('Nilai Loss')\n",
        "plt.xlabel('epoch')\n",
        "plt.legend(['train', 'test'], loc='upper left')\n",
        "plt.show()"
      ],
      "execution_count": 31,
      "outputs": [
        {
          "output_type": "display_data",
          "data": {
            "image/png": "[encoded data removed]",
            "text/plain": [
              "<Figure size 432x288 with 1 Axes>"
            ]
          },
          "metadata": {
            "needs_background": "light"
          }
        }
      ]
    }
  ]
}